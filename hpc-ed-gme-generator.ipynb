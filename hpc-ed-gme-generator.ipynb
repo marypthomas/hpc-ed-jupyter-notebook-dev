{
 "cells": [
  {
   "cell_type": "markdown",
   "metadata": {},
   "source": [
    "# HPC-ED Demo: GMetaEntry File Generator (Python based)\n",
    "\n",
    "## PEARC24\n",
    "\n",
    "#### San Diego Supercomputer Center, UC San Diego"
   ]
  },
  {
   "cell_type": "code",
   "execution_count": 18,
   "metadata": {},
   "outputs": [],
   "source": [
    "# import the local module\n",
    "from src import gme_generator as gmeg"
   ]
  },
  {
   "cell_type": "markdown",
   "metadata": {},
   "source": [
    "Start by creating a GMetaEntry object by setting an output file name and subject"
   ]
  },
  {
   "cell_type": "code",
   "execution_count": 20,
   "metadata": {},
   "outputs": [
    {
     "data": {
      "text/plain": [
       "<src.gme_generator.GMetaEntry at 0x7fb7cc575220>"
      ]
     },
     "execution_count": 20,
     "metadata": {},
     "output_type": "execute_result"
    }
   ],
   "source": [
    "file_name = \"output_data/test03\"\n",
    "subject = \"urn:ogf.org:glue2:access-ci.org:resource:cider:infrastructure.organizations:856:202304-SDSCWebinar-Neural-Networks\"\n",
    "test = gmeg.GMetaEntry(file_name, subject)\n",
    "test"
   ]
  },
  {
   "cell_type": "markdown",
   "metadata": {},
   "source": [
    "Gradually populate the object using a variety of meta-data fields"
   ]
  },
  {
   "cell_type": "code",
   "execution_count": 21,
   "metadata": {},
   "outputs": [],
   "source": [
    "abstract = \"In this session you will learn how to solve and accelerate computationally and data-intensive problems that are becoming common in the areas of machine learning and deep learning using multicore processors, GPUs, and computer clusters.\"\n",
    "test.add_content('abstract', abstract)\n"
   ]
  },
  {
   "cell_type": "code",
   "execution_count": 22,
   "metadata": {},
   "outputs": [],
   "source": [
    "authors = \"Timothy Kyung\"\n",
    "expertise_level = [\"All\"]\n",
    "keywords = [\"Expanse\",\n",
    "            \"HPC Training\",\n",
    "            \"Industry\",\n",
    "            \"TSCC\"\n",
    "            ]\n",
    "language = \"en\"\n",
    "provider_id = \"urn:ogf.org:glue2:access-ci.org:resource:cider:infrastructure.organizations:856\"\n",
    "resource_url_type = \"URL\"\n",
    "learning_resource_type = \"recorded lesson\"\n",
    "start_datetime = \"2022-04-27T20:00:00.000000\"\n",
    "target_group = [\"Research groups\"]\n",
    "title =  \"Computing with MATLAB\"\n",
    "url = \"https://education.sdsc.edu/training/interactive/202204_matlab\"\n",
    "IV = 'true'"
   ]
  },
  {
   "cell_type": "code",
   "execution_count": 23,
   "metadata": {},
   "outputs": [],
   "source": [
    "test.add_content('authors', authors)\n",
    "test.add_content('expertise_level', expertise_level)\n",
    "test.add_content('language', language)\n",
    "test.add_content('keywords', keywords)\n",
    "test.add_content('provider_id', provider_id)\n",
    "test.add_content('resource_url_type', resource_url_type)\n",
    "test.add_content('learning_resource_type', learning_resource_type)\n",
    "test.add_content('start_datetime', start_datetime)\n",
    "test.add_content('target_group', target_group)\n",
    "test.add_content('title', title)\n",
    "test.add_content('url', url)\n",
    "test.add_content('IV', IV)"
   ]
  },
  {
   "cell_type": "markdown",
   "metadata": {},
   "source": [
    "Change the visibility of the item to your desire"
   ]
  },
  {
   "cell_type": "code",
   "execution_count": 24,
   "metadata": {},
   "outputs": [],
   "source": [
    "test.set_visibility('public')"
   ]
  },
  {
   "cell_type": "markdown",
   "metadata": {},
   "source": [
    "Check the current state of the object and export as JSON"
   ]
  },
  {
   "cell_type": "code",
   "execution_count": 25,
   "metadata": {},
   "outputs": [
    {
     "name": "stdout",
     "output_type": "stream",
     "text": [
      "{\n",
      "    \"ingest_type\": \"GMetaEntry\",\n",
      "    \"ingest_data\": {\n",
      "        \"subject\": \"urn:ogf.org:glue2:access-ci.org:resource:cider:infrastructure.organizations:856:202304-SDSCWebinar-Neural-Networks\",\n",
      "        \"visible_to\": \"public\",\n",
      "        \"id\": \"std\",\n",
      "        \"content\": {\n",
      "            \"abstract\": \"In this session you will learn how to solve and accelerate computationally and data-intensive problems that are becoming common in the areas of machine learning and deep learning using multicore processors, GPUs, and computer clusters.\",\n",
      "            \"authors\": \"Timothy Kyung\",\n",
      "            \"expertise_level\": [\n",
      "                \"All\"\n",
      "            ],\n",
      "            \"language\": \"en\",\n",
      "            \"keywords\": [\n",
      "                \"Expanse\",\n",
      "                \"HPC Training\",\n",
      "                \"Industry\",\n",
      "                \"TSCC\"\n",
      "            ],\n",
      "            \"provider_id\": \"urn:ogf.org:glue2:access-ci.org:resource:cider:infrastructure.organizations:856\",\n",
      "            \"resource_url_type\": \"URL\",\n",
      "            \"learning_resource_type\": \"recorded lesson\",\n",
      "            \"start_datetime\": \"2022-04-27T20:00:00.000000\",\n",
      "            \"target_group\": [\n",
      "                \"Research groups\"\n",
      "            ],\n",
      "            \"title\": \"Computing with MATLAB\",\n",
      "            \"url\": \"https://education.sdsc.edu/training/interactive/202204_matlab\",\n",
      "            \"IV\": \"true\"\n",
      "        }\n",
      "    }\n",
      "}\n"
     ]
    }
   ],
   "source": [
    "test.show_gme()"
   ]
  },
  {
   "cell_type": "code",
   "execution_count": 26,
   "metadata": {},
   "outputs": [
    {
     "name": "stdout",
     "output_type": "stream",
     "text": [
      "{\n",
      "    \"ingest_type\": \"GMetaEntry\",\n",
      "    \"ingest_data\": {\n",
      "        \"subject\": \"urn:ogf.org:glue2:access-ci.org:resource:cider:infrastructure.organizations:856:202304-SDSCWebinar-Neural-Networks\",\n",
      "        \"visible_to\": \"public\",\n",
      "        \"id\": \"std\",\n",
      "        \"content\": {\n",
      "            \"abstract\": \"In this session you will learn how to solve and accelerate computationally and data-intensive problems that are becoming common in the areas of machine learning and deep learning using multicore processors, GPUs, and computer clusters.\",\n",
      "            \"authors\": \"Timothy Kyung\",\n",
      "            \"expertise_level\": [\n",
      "                \"All\"\n",
      "            ],\n",
      "            \"language\": \"en\",\n",
      "            \"keywords\": [\n",
      "                \"Expanse\",\n",
      "                \"HPC Training\",\n",
      "                \"Industry\",\n",
      "                \"TSCC\"\n",
      "            ],\n",
      "            \"provider_id\": \"urn:ogf.org:glue2:access-ci.org:resource:cider:infrastructure.organizations:856\",\n",
      "            \"resource_url_type\": \"URL\",\n",
      "            \"learning_resource_type\": \"recorded lesson\",\n",
      "            \"start_datetime\": \"2022-04-27T20:00:00.000000\",\n",
      "            \"target_group\": [\n",
      "                \"Research groups\"\n",
      "            ],\n",
      "            \"title\": \"Computing with MATLAB\",\n",
      "            \"url\": \"https://education.sdsc.edu/training/interactive/202204_matlab\",\n",
      "            \"IV\": \"true\"\n",
      "        }\n",
      "    }\n",
      "}\n"
     ]
    }
   ],
   "source": [
    "test.create_json()"
   ]
  },
  {
   "cell_type": "code",
   "execution_count": null,
   "metadata": {},
   "outputs": [],
   "source": []
  },
  {
   "cell_type": "code",
   "execution_count": null,
   "metadata": {},
   "outputs": [],
   "source": []
  }
 ],
 "metadata": {
  "kernelspec": {
   "display_name": "Python 3 (ipykernel)",
   "language": "python",
   "name": "python3"
  },
  "language_info": {
   "codemirror_mode": {
    "name": "ipython",
    "version": 3
   },
   "file_extension": ".py",
   "mimetype": "text/x-python",
   "name": "python",
   "nbconvert_exporter": "python",
   "pygments_lexer": "ipython3",
   "version": "3.9.12"
  }
 },
 "nbformat": 4,
 "nbformat_minor": 4
}
