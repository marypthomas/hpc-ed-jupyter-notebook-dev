{
 "cells": [
  {
   "cell_type": "markdown",
   "metadata": {},
   "source": [
    "# HPC-ED Demo: Upload/Ingest Material(globus-sdk)\n",
    "\n",
    "## PEARC24\n",
    "\n",
    "#### San Diego Supercomputer Center, UC San Diego"
   ]
  },
  {
   "cell_type": "markdown",
   "metadata": {},
   "source": [
    "---"
   ]
  },
  {
   "cell_type": "markdown",
   "metadata": {},
   "source": [
    "### Setup"
   ]
  },
  {
   "cell_type": "code",
   "execution_count": 2,
   "metadata": {},
   "outputs": [],
   "source": [
    "import globus_sdk"
   ]
  },
  {
   "cell_type": "code",
   "execution_count": null,
   "metadata": {},
   "outputs": [],
   "source": [
    "# this is the SDSC's organization client ID\n",
    "# replace this string with the client ID for DEMO use\n",
    "CLIENT_ID = \"aeea7859-8f33-4853-a2a6-8e9d58cd52a2\"\n",
    "client = globus_sdk.NativeAppAuthClient(CLIENT_ID)\n",
    "\n",
    "client.oauth2_start_flow()\n",
    "authorize_url = client.oauth2_get_authorize_url()\n",
    "print(f\"Please go to this URL and login:\\n\\n{authorize_url}\\n\")\n",
    "\n",
    "auth_code = input(\"Please enter the code you get after login here: \").strip()\n",
    "token_response = client.oauth2_exchange_code_for_tokens(auth_code)\n",
    "\n",
    "globus_auth_data = token_response.by_resource_server[\"auth.globus.org\"]\n",
    "globus_transfer_data = token_response.by_resource_server[\"transfer.api.globus.org\"]\n",
    "\n",
    "# most specifically, you want these tokens as strings\n",
    "AUTH_TOKEN = globus_auth_data[\"access_token\"]\n",
    "TRANSFER_TOKEN = globus_transfer_data[\"access_token\"]"
   ]
  },
  {
   "cell_type": "code",
   "execution_count": null,
   "metadata": {},
   "outputs": [],
   "source": [
    "SDSC_index = '0e8be9d5-99d7-4641-ae43-f72b40bb8a5c' ## id of SDSC for demonstration "
   ]
  },
  {
   "cell_type": "markdown",
   "metadata": {},
   "source": [
    "---"
   ]
  },
  {
   "cell_type": "markdown",
   "metadata": {},
   "source": [
    "### Upload a Single Item"
   ]
  },
  {
   "cell_type": "code",
   "execution_count": null,
   "metadata": {},
   "outputs": [],
   "source": [
    "sc = globus_sdk.SearchClient()\n",
    "ingest_data = {\n",
    "    \"ingest_type\": \"GMetaEntry\",\n",
    "    \"ingest_data\": {\n",
    "        \"subject\": \"https://example.com/foo/bar\",\n",
    "        \"visible_to\": [\"public\"],\n",
    "        \"content\": {\"foo/bar\": \"some val\"},\n",
    "    },\n",
    "}\n",
    "sc.ingest(SDSC_index, ingest_data)"
   ]
  },
  {
   "cell_type": "markdown",
   "metadata": {},
   "source": [
    "---"
   ]
  },
  {
   "cell_type": "markdown",
   "metadata": {},
   "source": [
    "### Upload Multiple Files"
   ]
  },
  {
   "cell_type": "code",
   "execution_count": null,
   "metadata": {},
   "outputs": [],
   "source": [
    "sc = globus_sdk.SearchClient()\n",
    "ingest_data = {\n",
    "    \"ingest_type\": \"GMetaList\",\n",
    "    \"ingest_data\": {\n",
    "        \"gmeta\": [\n",
    "            {\n",
    "                \"subject\": \"https://example.com/foo/bar\",\n",
    "                \"visible_to\": [\"public\"],\n",
    "                \"content\": {\"foo/bar\": \"some val\"},\n",
    "            },\n",
    "            {\n",
    "                \"subject\": \"https://example.com/foo/bar\",\n",
    "                \"id\": \"otherentry\",\n",
    "                \"visible_to\": [\"public\"],\n",
    "                \"content\": {\"foo/bar\": \"some otherval\"},\n",
    "            },\n",
    "        ]\n",
    "    },\n",
    "}\n",
    "sc.ingest(SDSC_index, ingest_data)"
   ]
  }
 ],
 "metadata": {
  "kernelspec": {
   "display_name": "HPC-EDDemo",
   "language": "python",
   "name": "python3"
  },
  "language_info": {
   "codemirror_mode": {
    "name": "ipython",
    "version": 3
   },
   "file_extension": ".py",
   "mimetype": "text/x-python",
   "name": "python",
   "nbconvert_exporter": "python",
   "pygments_lexer": "ipython3",
   "version": "3.9.19"
  }
 },
 "nbformat": 4,
 "nbformat_minor": 2
}
