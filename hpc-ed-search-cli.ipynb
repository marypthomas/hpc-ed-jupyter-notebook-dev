{
 "cells": [
  {
   "cell_type": "markdown",
   "metadata": {},
   "source": [
    "# HPC-ED Demo: Search Material(globus-cli)\n",
    "\n",
    "## PEARC24\n",
    "\n",
    "#### San Diego Supercomputer Center, UC San Diego"
   ]
  },
  {
   "cell_type": "markdown",
   "metadata": {},
   "source": [
    "---"
   ]
  },
  {
   "cell_type": "markdown",
   "metadata": {},
   "source": [
    "### Search a Single Term"
   ]
  },
  {
   "cell_type": "markdown",
   "metadata": {},
   "source": [
    "By changing the `--format` parameter, the user can either get the output in plain text or JSON format"
   ]
  },
  {
   "cell_type": "code",
   "execution_count": null,
   "metadata": {},
   "outputs": [],
   "source": [
    "%%bash\n",
    "source src/credential.sh\n",
    "globus search query $INDEX_ID \\\n",
    "    --limit 1 --format TEXT \\\n",
    "    --advanced -q \"Title: Interactive Computing\""
   ]
  },
  {
   "cell_type": "code",
   "execution_count": null,
   "metadata": {},
   "outputs": [],
   "source": [
    "%%bash\n",
    "source src/credential.sh\n",
    "globus search query $INDEX_ID \\\n",
    "    --limit 1 --format JSON \\\n",
    "    --advanced -q \"Title: Interactive Computing\""
   ]
  },
  {
   "cell_type": "markdown",
   "metadata": {},
   "source": [
    "Search based on meta-data fields other than the title"
   ]
  },
  {
   "cell_type": "code",
   "execution_count": null,
   "metadata": {},
   "outputs": [],
   "source": [
    "%%bash\n",
    "source src/credential.sh\n",
    "globus search query $INDEX_ID \\\n",
    "    --limit 1 --format JSON \\\n",
    "    --advanced -q \"IV: true\""
   ]
  },
  {
   "cell_type": "code",
   "execution_count": null,
   "metadata": {},
   "outputs": [],
   "source": [
    "%%bash\n",
    "source src/credential.sh\n",
    "globus search query $INDEX_ID \\\n",
    "    --limit 1 --format JSON \\\n",
    "    --advanced -q \"Language: en\""
   ]
  },
  {
   "cell_type": "code",
   "execution_count": null,
   "metadata": {},
   "outputs": [],
   "source": [
    "%%bash\n",
    "source src/credential.sh\n",
    "globus search query $INDEX_ID \\\n",
    "    --limit 1 --format JSON \\\n",
    "    --advanced -q \"Authors: Mary Thomas\""
   ]
  },
  {
   "cell_type": "markdown",
   "metadata": {},
   "source": [
    "### Search `n` Terms"
   ]
  },
  {
   "cell_type": "code",
   "execution_count": null,
   "metadata": {},
   "outputs": [],
   "source": [
    "%%bash\n",
    "source src/credential.sh\n",
    "globus search query $INDEX_ID \\\n",
    "    --limit 5 --format JSON \\\n",
    "    --advanced -q \"Title: Interactive Computing\""
   ]
  },
  {
   "cell_type": "markdown",
   "metadata": {},
   "source": [
    "### Search and Save to File"
   ]
  },
  {
   "cell_type": "code",
   "execution_count": null,
   "metadata": {},
   "outputs": [],
   "source": [
    "%%bash\n",
    "source src/credential.sh\n",
    "\n",
    "globus search query $INDEX_ID \\\n",
    "    --limit 5 --format JSON \\\n",
    "    --advanced -q \"Title: Interactive Computing\" >| output_data/search_query.json"
   ]
  }
 ],
 "metadata": {
  "kernelspec": {
   "display_name": "HPC-EDDemo",
   "language": "python",
   "name": "python3"
  },
  "language_info": {
   "codemirror_mode": {
    "name": "ipython",
    "version": 3
   },
   "file_extension": ".py",
   "mimetype": "text/x-python",
   "name": "python",
   "nbconvert_exporter": "python",
   "pygments_lexer": "ipython3",
   "version": "3.9.19"
  }
 },
 "nbformat": 4,
 "nbformat_minor": 2
}
