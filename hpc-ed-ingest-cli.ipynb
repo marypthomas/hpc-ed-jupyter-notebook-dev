{
 "cells": [
  {
   "cell_type": "markdown",
   "metadata": {},
   "source": [
    "# HPC-ED PEARC24 Tutorial: Ingest material into the repository \n",
    "* uses the HPC-ED globus-cli (CLI)\n",
    "* saves files to output_data folder\n",
    "\n",
    "#### San Diego Supercomputer Center, UC San Diego"
   ]
  },
  {
   "cell_type": "markdown",
   "metadata": {},
   "source": [
    "---"
   ]
  },
  {
   "cell_type": "markdown",
   "metadata": {},
   "source": [
    "### Upload a Single Item"
   ]
  },
  {
   "cell_type": "code",
   "execution_count": 1,
   "metadata": {},
   "outputs": [
    {
     "name": "stdout",
     "output_type": "stream",
     "text": [
      "Task ID:      d7b929ed-ff02-47fc-acf7-841699d5bb6a\n",
      "Acknowledged: True\n"
     ]
    }
   ],
   "source": [
    "%%bash\n",
    "# https://github.com/HPC-ED/HPC-ED.github.io/wiki/Publishing-Metadata\n",
    "source src/credential.sh\n",
    "\n",
    "globus search ingest $INDEX_ID \"input_data/202204_matlab.json\""
   ]
  },
  {
   "cell_type": "markdown",
   "metadata": {},
   "source": [
    "### Upload in Batches"
   ]
  },
  {
   "cell_type": "code",
   "execution_count": 2,
   "metadata": {},
   "outputs": [
    {
     "name": "stdout",
     "output_type": "stream",
     "text": [
      "Task ID:      726acad3-8204-450f-84cc-9af33efb3c9c\n",
      "Acknowledged: True\n"
     ]
    }
   ],
   "source": [
    "%%bash\n",
    "# https://github.com/HPC-ED/HPC-ED.github.io/wiki/Publishing-Metadata\n",
    "source src/credential.sh\n",
    "\n",
    "globus search ingest $INDEX_ID input_data/batch-0.json"
   ]
  },
  {
   "cell_type": "code",
   "execution_count": null,
   "metadata": {},
   "outputs": [],
   "source": []
  }
 ],
 "metadata": {
  "kernelspec": {
   "display_name": "Python 3 (ipykernel)",
   "language": "python",
   "name": "python3"
  },
  "language_info": {
   "codemirror_mode": {
    "name": "ipython",
    "version": 3
   },
   "file_extension": ".py",
   "mimetype": "text/x-python",
   "name": "python",
   "nbconvert_exporter": "python",
   "pygments_lexer": "ipython3",
   "version": "3.9.12"
  }
 },
 "nbformat": 4,
 "nbformat_minor": 4
}
