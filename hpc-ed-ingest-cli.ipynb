{
 "cells": [
  {
   "cell_type": "markdown",
   "metadata": {},
   "source": [
    "# HPC-ED Demo: Upload/Ingest Material(globus-cli)\n",
    "\n",
    "## PEARC24\n",
    "\n",
    "#### San Diego Supercomputer Center, UC San Diego"
   ]
  },
  {
   "cell_type": "markdown",
   "metadata": {},
   "source": [
    "---"
   ]
  },
  {
   "cell_type": "markdown",
   "metadata": {},
   "source": [
    "### Upload a Single Item"
   ]
  },
  {
   "cell_type": "code",
   "execution_count": 3,
   "metadata": {},
   "outputs": [
    {
     "name": "stdout",
     "output_type": "stream",
     "text": [
      "You are already logged in!\n",
      "\n",
      "You may force a new login with\n",
      "  globus login --force\n",
      "\n",
      "You can check your primary identity with\n",
      "  globus whoami\n",
      "\n",
      "For information on which of your identities are in session use\n",
      "  globus session show\n",
      "\n",
      "Logout of the Globus CLI with\n",
      "  globus logout\n",
      "\n",
      "Task ID:      0ec0a451-2d4c-457c-b76f-ee9666c19ddb\n",
      "Acknowledged: True\n"
     ]
    }
   ],
   "source": [
    "%%bash\n",
    "globus login\n",
    "# https://github.com/HPC-ED/HPC-ED.github.io/wiki/Publishing-Metadata\n",
    "# export GLOBUS_CLI_CLIENT_ID=\"<client_id_value>\"\n",
    "export GLOBUS_CLI_CLIENT_ID=\"aeea7859-8f33-4853-a2a6-8e9d58cd52a2\" ### Only for test, DELETE for actual demo\n",
    "# export GLOBUS_CLI_CLIENT_SECRET=\"<client_secret_value>\"\n",
    "export GLOBUS_CLI_CLIENT_SECRET=\"MT0MkOhgRT0s9fkhl4FoFubsutrQq29DlOW2PfDWwzQ=\" ### Only for test, DELETE for actual demo\n",
    "\n",
    "globus search ingest '0e8be9d5-99d7-4641-ae43-f72b40bb8a5c' \"input_data/202204_matlab.json\""
   ]
  },
  {
   "cell_type": "markdown",
   "metadata": {},
   "source": [
    "### Upload in Batches"
   ]
  },
  {
   "cell_type": "code",
   "execution_count": 5,
   "metadata": {},
   "outputs": [
    {
     "name": "stdout",
     "output_type": "stream",
     "text": [
      "You are already logged in!\n",
      "\n",
      "You may force a new login with\n",
      "  globus login --force\n",
      "\n",
      "You can check your primary identity with\n",
      "  globus whoami\n",
      "\n",
      "For information on which of your identities are in session use\n",
      "  globus session show\n",
      "\n",
      "Logout of the Globus CLI with\n",
      "  globus logout\n",
      "\n",
      "Task ID:      6190ef9c-33d1-400c-992f-19d0d68e142d\n",
      "Acknowledged: True\n"
     ]
    }
   ],
   "source": [
    "%%bash\n",
    "globus login \n",
    "\n",
    "# https://github.com/HPC-ED/HPC-ED.github.io/wiki/Publishing-Metadata\n",
    "# export GLOBUS_CLI_CLIENT_ID=\"<client_id_value>\"\n",
    "export GLOBUS_CLI_CLIENT_ID=\"aeea7859-8f33-4853-a2a6-8e9d58cd52a2\" ### Only for test, DELETE for actual demo\n",
    "# export GLOBUS_CLI_CLIENT_SECRET=\"<client_secret_value>\"\n",
    "export GLOBUS_CLI_CLIENT_SECRET=\"MT0MkOhgRT0s9fkhl4FoFubsutrQq29DlOW2PfDWwzQ=\" ### Only for test, DELETE for actual demo\n",
    "\n",
    "export INDEX_ID=0e8be9d5-99d7-4641-ae43-f72b40bb8a5c\n",
    "\n",
    "globus search ingest $INDEX_ID input_data/batch-0.json"
   ]
  }
 ],
 "metadata": {
  "kernelspec": {
   "display_name": "HPC-EDDemo",
   "language": "python",
   "name": "python3"
  },
  "language_info": {
   "codemirror_mode": {
    "name": "ipython",
    "version": 3
   },
   "file_extension": ".py",
   "mimetype": "text/x-python",
   "name": "python",
   "nbconvert_exporter": "python",
   "pygments_lexer": "ipython3",
   "version": "3.9.19"
  }
 },
 "nbformat": 4,
 "nbformat_minor": 2
}
