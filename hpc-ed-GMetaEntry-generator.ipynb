{
 "cells": [
  {
   "cell_type": "markdown",
   "metadata": {},
   "source": [
    "# HPC-ED Demo: GMetaEntry File Generator\n",
    "\n",
    "## PEARC24\n",
    "\n",
    "#### San Diego Supercomputer Center, UC San Diego"
   ]
  },
  {
   "cell_type": "markdown",
   "metadata": {},
   "source": [
    "---"
   ]
  },
  {
   "cell_type": "code",
   "execution_count": 1,
   "metadata": {},
   "outputs": [],
   "source": [
    "import json"
   ]
  },
  {
   "cell_type": "code",
   "execution_count": 5,
   "metadata": {},
   "outputs": [],
   "source": [
    "def create_gmetaentry(subject, visible_to, content):\n",
    "    gmetaentry = {\n",
    "        \"ingest_type\": \"GMetaEntry\",\n",
    "        \"ingest_data\": {\n",
    "            \"subject\": subject,\n",
    "            \"visible_to\": visible_to,\n",
    "            \"id\": \"std\",\n",
    "            \"content\": content\n",
    "        }\n",
    "    }\n",
    "    return gmetaentry\n",
    "\n",
    "def main():\n",
    "    # User inputs\n",
    "    file_name = input(\"Enter the file name\")\n",
    "    subject = input(\"Enter the subject URL: \")\n",
    "    visible_to = input(\"Enter visibility (e.g., public, private): \").split(\",\")\n",
    "    content = {}\n",
    "\n",
    "    while True:\n",
    "        key = input(\"Enter content key (or 'done' to finish): \")\n",
    "        if key.lower() == 'done':\n",
    "            break\n",
    "        value = input(f\"Enter content value for {key}: \")\n",
    "        content[key] = value\n",
    "\n",
    "    gmetaentry = create_gmetaentry(subject, visible_to, content)\n",
    "\n",
    "    # Convert to JSON\n",
    "    json.dump(gmetaentry, open(f'output_data/{file_name}.json', 'w'), indent=4)\n"
   ]
  },
  {
   "cell_type": "code",
   "execution_count": 6,
   "metadata": {},
   "outputs": [],
   "source": [
    "if __name__ == \"__main__\":\n",
    "    main()"
   ]
  }
 ],
 "metadata": {
  "kernelspec": {
   "display_name": "HPC-EDDemo",
   "language": "python",
   "name": "python3"
  },
  "language_info": {
   "codemirror_mode": {
    "name": "ipython",
    "version": 3
   },
   "file_extension": ".py",
   "mimetype": "text/x-python",
   "name": "python",
   "nbconvert_exporter": "python",
   "pygments_lexer": "ipython3",
   "version": "3.9.19"
  }
 },
 "nbformat": 4,
 "nbformat_minor": 2
}
